{
  "cells": [
    {
      "cell_type": "code",
      "execution_count": 47,
      "metadata": {
        "id": "kOqlPeoh6p1T"
      },
      "outputs": [],
      "source": [
        "import pandas as pd\n",
        "import random\n",
        "from faker import Faker\n",
        "from datetime import datetime, timedelta\n",
        "\n",
        "fake = Faker()\n",
        "random.seed(42)\n",
        "\n",
        "def get_lead_priority(quote_amount, quote_age_days, customer_type, source_channel, product_type, past_interactions, prior_orders):\n",
        "    if quote_amount < 50000:\n",
        "        quote_amount_score = 1\n",
        "    elif quote_amount <= 150000:\n",
        "        quote_amount_score = 2\n",
        "    else:\n",
        "        quote_amount_score = 3\n",
        "\n",
        "    if quote_age_days <= 5:\n",
        "        quote_age_score = 3\n",
        "    elif quote_age_days <= 15:\n",
        "        quote_age_score = 2\n",
        "    else:\n",
        "        quote_age_score = 1\n",
        "\n",
        "    if customer_type in ['Contractor', 'Corporate']:\n",
        "        customer_type_score = 3\n",
        "    elif customer_type in ['Reseller', 'Government']:\n",
        "        customer_type_score = 2\n",
        "    else:\n",
        "        customer_type_score = 1\n",
        "\n",
        "    if source_channel in ['Website', 'Referral']:\n",
        "        source_channel_score = 3\n",
        "    elif source_channel in ['Walk-in', 'Email']:\n",
        "        source_channel_score = 2\n",
        "    else:\n",
        "        source_channel_score = 1\n",
        "\n",
        "    if product_type == 'High-margin':\n",
        "        product_type_score = 3\n",
        "    elif product_type == 'Low-margin':\n",
        "        product_type_score = 1\n",
        "    else:\n",
        "        product_type_score = 2\n",
        "\n",
        "    if past_interactions in ['5 (calls, visits)', '6 (calls, visits, emails)']:\n",
        "        past_interactions_score = 3\n",
        "    elif past_interactions in ['3 (calls, visits)', '2 (calls)']:\n",
        "        past_interactions_score = 2\n",
        "    else:\n",
        "        past_interactions_score = 1\n",
        "\n",
        "    if prior_orders >= 10:\n",
        "        prior_orders_score = 3\n",
        "    elif prior_orders >= 5:\n",
        "        prior_orders_score = 2\n",
        "    else:\n",
        "        prior_orders_score = 1\n",
        "\n",
        "    total_score = (\n",
        "        quote_amount_score + quote_age_score + customer_type_score +\n",
        "        source_channel_score + product_type_score + past_interactions_score +\n",
        "        prior_orders_score\n",
        "    )\n",
        "\n",
        "    if total_score >= 18:\n",
        "        lead_priority = 'High Priority'\n",
        "    elif total_score >= 12:\n",
        "        lead_priority = 'Medium Priority'\n",
        "    else:\n",
        "        lead_priority = 'Low Priority'\n",
        "\n",
        "    return total_score, lead_priority\n"
      ]
    },
    {
      "cell_type": "code",
      "execution_count": 48,
      "metadata": {
        "id": "CC5PcZBr497K"
      },
      "outputs": [],
      "source": [
        "def generate_interactions():\n",
        "    interactions = [\n",
        "        '1 (visit)', '2 (calls)', '3 (calls, visits)',\n",
        "        '4 (calls, visits)', '5 (calls, visits)',\n",
        "        '6 (calls, visits, emails)'\n",
        "    ]\n",
        "    return random.choice(interactions)\n",
        "\n",
        "descriptions = ['Service call', 'Installation request', 'Consultation']\n",
        "work_descriptions = ['Install product', 'Repair machinery', 'Inspect equipment', 'Upgrade system']\n",
        "customer_types = ['Contractor', 'Individual', 'NGO', 'Reseller', 'Government', 'Corporate']\n",
        "source_channels = ['Website', 'Walk-in', 'FloApp', 'Shopify', 'Referral', 'Email']\n",
        "product_types = ['High-margin', 'Low-margin', 'Mixed']\n",
        "salespersons = ['PMAMAI', 'PMNYABUTO', 'PMMULWA', 'PMKILONZO', 'PMOMONDI']\n",
        "salesperson_codes = ['514', '369', '445', '858', '106']\n",
        "\n",
        "data = []\n",
        "for i in range(3000):\n",
        "    entry_no = i + 1\n",
        "    date = fake.date_between(start_date='-1y', end_date='today')\n",
        "    description = random.choice(descriptions)\n",
        "    work_description = random.choice(work_descriptions)\n",
        "    contact_no = fake.msisdn()[5:15]\n",
        "    contact_name = fake.name()\n",
        "    contact_company = fake.company()\n",
        "    duration = random.randint(10, 180)\n",
        "    salesperson_code = random.choice(salesperson_codes)\n",
        "    user_id = random.randint(300, 400)\n",
        "\n",
        "    quote_id = f\"Q{100 + i}\"\n",
        "    quote_amount = random.randint(25000, 500000)\n",
        "    quote_age_days = random.randint(0, 30)\n",
        "    customer_type = random.choice(customer_types)\n",
        "    source_channel = random.choice(source_channels)\n",
        "    product_type = random.choices(product_types, weights=[0.5, 0.3, 0.2])[0]\n",
        "    past_interactions = generate_interactions()\n",
        "    prior_orders = random.randint(0, 15)\n",
        "    salesperson = random.choice(salespersons)\n",
        "\n",
        "    _, lead_priority = get_lead_priority(quote_amount, quote_age_days, customer_type, source_channel, product_type, past_interactions, prior_orders)\n",
        "\n",
        "    data.append([\n",
        "        entry_no, date, description, work_description, contact_no,\n",
        "        contact_name, contact_company, duration, salesperson_code, user_id,\n",
        "        quote_id, quote_amount, quote_age_days, customer_type, source_channel,\n",
        "        product_type, past_interactions, prior_orders, salesperson, lead_priority\n",
        "    ])\n",
        "columns = ['Entry_No', 'Date', 'Description', 'WorkDescription', 'Contact_No',\n",
        "           'Contact_Name', 'Contact_Company_Name', 'Duration_Min',\n",
        "           'Salesperson_Code', 'User_ID', 'Quote_ID', 'Quote_Amount',\n",
        "           'Quote_Age_Days', 'Customer_Type', 'Source_Channel',\n",
        "           'Product_Type', 'Past_Interactions', 'Prior_Orders',\n",
        "           'Salesperson', 'Lead_Priority']\n",
        "\n",
        "df = pd.DataFrame(data, columns=columns)"
      ]
    },
    {
      "cell_type": "code",
      "execution_count": null,
      "metadata": {
        "id": "xa5M81gT5RgM"
      },
      "outputs": [],
      "source": [
        " df.to_csv('Raw_data_Gen.csv', index=False)"
      ]
    },
    {
      "cell_type": "code",
      "execution_count": 68,
      "metadata": {
        "id": "uSus88vFBmoZ"
      },
      "outputs": [],
      "source": [
        "from sklearn.preprocessing import LabelEncoder, OneHotEncoder # Use OneHotEncoder with capital O\n",
        "label_encoder = LabelEncoder()\n",
        "ohe = OneHotEncoder(sparse_output=False, handle_unknown='ignore') # Use OneHotEncoder with capital O\n",
        "\n",
        "categorical_columns = df.select_dtypes(include=['object']).columns\n",
        "for column in categorical_columns:\n",
        "    df[column] = label_encoder.fit_transform(df[column])\n",
        "\n",
        "df['Customer_Type'] = label_encoder.fit_transform(df['Customer_Type'])\n",
        "df['Source_Channel'] = label_encoder.fit_transform(df['Source_Channel'])\n",
        "df['Product_Type'] = label_encoder.fit_transform(df['Product_Type'])\n",
        "df['Salesperson'] = label_encoder.fit_transform(df['Salesperson'])\n",
        "df['Lead_Priority'] = label_encoder.fit_transform(df['Lead_Priority'])"
      ]
    },
    {
      "cell_type": "code",
      "execution_count": 69,
      "metadata": {
        "id": "qmYkVp2wBob5"
      },
      "outputs": [],
      "source": [
        "X = df.drop('Lead_Priority', axis=1)\n",
        "y = df['Lead_Priority']"
      ]
    },
    {
      "cell_type": "code",
      "execution_count": 70,
      "metadata": {
        "id": "8BKEzSs-B8Zs"
      },
      "outputs": [],
      "source": [
        "from sklearn.model_selection import train_test_split\n",
        "X_train, X_test, y_train, y_test = train_test_split(X, y, test_size=0.2, random_state=42)"
      ]
    },
    {
      "cell_type": "code",
      "execution_count": 71,
      "metadata": {
        "id": "dWF55XDOCDKH"
      },
      "outputs": [],
      "source": [
        "from sklearn.linear_model import LogisticRegression\n",
        "from sklearn.svm import SVC\n",
        "from sklearn.neighbors import KNeighborsClassifier\n",
        "from sklearn.ensemble import GradientBoostingClassifier\n",
        "from sklearn.metrics import accuracy_score, classification_report, confusion_matrix\n"
      ]
    },
    {
      "cell_type": "code",
      "execution_count": 80,
      "metadata": {
        "id": "532unq6ACMEb"
      },
      "outputs": [],
      "source": [
        "def evaluate_models(X_train, X_test, y_train, y_test):\n",
        "    models = {\n",
        "        \"Random Forest\": RandomForestClassifier(n_estimators=100, random_state=42),\n",
        "        \"Logistic Regression\": LogisticRegression(max_iter=1000, random_state=42),\n",
        "        \"SVM\": SVC(random_state=42),\n",
        "        \"Gradient Boosting\": GradientBoostingClassifier(random_state=42),\n",
        "        \"K-Nearest Neighbors\": KNeighborsClassifier()\n",
        "    }\n",
        "\n",
        "    reference_date = pd.to_datetime('2022-01-01')\n",
        "    X_train['Date'] = (pd.to_datetime(X_train['Date']) - reference_date).dt.days\n",
        "    X_test['Date'] = (pd.to_datetime(X_test['Date']) - reference_date).dt.days\n",
        "\n",
        "    trained_models = {}\n",
        "\n",
        "    for model_name, model in models.items():\n",
        "        model.fit(X_train, y_train)\n",
        "        y_pred = model.predict(X_test)\n",
        "\n",
        "        trained_models[model_name] = model\n",
        "\n",
        "        accuracy = accuracy_score(y_test, y_pred)\n",
        "        conf_matrix = confusion_matrix(y_test, y_pred)\n",
        "        class_report = classification_report(y_test, y_pred)\n",
        "\n",
        "        print(f\"--- {model_name} ---\")\n",
        "        print(f\"Accuracy: {accuracy:.4f}\")\n",
        "        print(\"Confusion Matrix:\")\n",
        "        print(conf_matrix)\n",
        "        print(\"Classification Report:\")\n",
        "        print(class_report)\n",
        "        print(\"-\" * 50)\n",
        "    return trained_models"
      ]
    },
    {
      "cell_type": "code",
      "execution_count": 81,
      "metadata": {
        "colab": {
          "base_uri": "https://localhost:8080/"
        },
        "id": "uSmD29vDCQE7",
        "outputId": "0fa5d9d6-5cec-44ea-97fa-6a45d0b24c84"
      },
      "outputs": [
        {
          "name": "stdout",
          "output_type": "stream",
          "text": [
            "--- Random Forest ---\n",
            "Accuracy: 0.9050\n",
            "Confusion Matrix:\n",
            "[[ 14   0  25]\n",
            " [  0  10  31]\n",
            " [  1   0 519]]\n",
            "Classification Report:\n",
            "              precision    recall  f1-score   support\n",
            "\n",
            "           0       0.93      0.36      0.52        39\n",
            "           1       1.00      0.24      0.39        41\n",
            "           2       0.90      1.00      0.95       520\n",
            "\n",
            "    accuracy                           0.91       600\n",
            "   macro avg       0.95      0.53      0.62       600\n",
            "weighted avg       0.91      0.91      0.88       600\n",
            "\n",
            "--------------------------------------------------\n"
          ]
        },
        {
          "name": "stderr",
          "output_type": "stream",
          "text": [
            "/usr/local/lib/python3.11/dist-packages/sklearn/linear_model/_logistic.py:465: ConvergenceWarning: lbfgs failed to converge (status=1):\n",
            "STOP: TOTAL NO. OF ITERATIONS REACHED LIMIT.\n",
            "\n",
            "Increase the number of iterations (max_iter) or scale the data as shown in:\n",
            "    https://scikit-learn.org/stable/modules/preprocessing.html\n",
            "Please also refer to the documentation for alternative solver options:\n",
            "    https://scikit-learn.org/stable/modules/linear_model.html#logistic-regression\n",
            "  n_iter_i = _check_optimize_result(\n",
            "/usr/local/lib/python3.11/dist-packages/sklearn/metrics/_classification.py:1565: UndefinedMetricWarning: Precision is ill-defined and being set to 0.0 in labels with no predicted samples. Use `zero_division` parameter to control this behavior.\n",
            "  _warn_prf(average, modifier, f\"{metric.capitalize()} is\", len(result))\n",
            "/usr/local/lib/python3.11/dist-packages/sklearn/metrics/_classification.py:1565: UndefinedMetricWarning: Precision is ill-defined and being set to 0.0 in labels with no predicted samples. Use `zero_division` parameter to control this behavior.\n",
            "  _warn_prf(average, modifier, f\"{metric.capitalize()} is\", len(result))\n",
            "/usr/local/lib/python3.11/dist-packages/sklearn/metrics/_classification.py:1565: UndefinedMetricWarning: Precision is ill-defined and being set to 0.0 in labels with no predicted samples. Use `zero_division` parameter to control this behavior.\n",
            "  _warn_prf(average, modifier, f\"{metric.capitalize()} is\", len(result))\n"
          ]
        },
        {
          "name": "stdout",
          "output_type": "stream",
          "text": [
            "--- Logistic Regression ---\n",
            "Accuracy: 0.8683\n",
            "Confusion Matrix:\n",
            "[[  1   0  38]\n",
            " [  0   0  41]\n",
            " [  0   0 520]]\n",
            "Classification Report:\n",
            "              precision    recall  f1-score   support\n",
            "\n",
            "           0       1.00      0.03      0.05        39\n",
            "           1       0.00      0.00      0.00        41\n",
            "           2       0.87      1.00      0.93       520\n",
            "\n",
            "    accuracy                           0.87       600\n",
            "   macro avg       0.62      0.34      0.33       600\n",
            "weighted avg       0.82      0.87      0.81       600\n",
            "\n",
            "--------------------------------------------------\n",
            "--- SVM ---\n",
            "Accuracy: 0.8667\n",
            "Confusion Matrix:\n",
            "[[  0   0  39]\n",
            " [  0   0  41]\n",
            " [  0   0 520]]\n",
            "Classification Report:\n",
            "              precision    recall  f1-score   support\n",
            "\n",
            "           0       0.00      0.00      0.00        39\n",
            "           1       0.00      0.00      0.00        41\n",
            "           2       0.87      1.00      0.93       520\n",
            "\n",
            "    accuracy                           0.87       600\n",
            "   macro avg       0.29      0.33      0.31       600\n",
            "weighted avg       0.75      0.87      0.80       600\n",
            "\n",
            "--------------------------------------------------\n"
          ]
        },
        {
          "name": "stderr",
          "output_type": "stream",
          "text": [
            "/usr/local/lib/python3.11/dist-packages/sklearn/metrics/_classification.py:1565: UndefinedMetricWarning: Precision is ill-defined and being set to 0.0 in labels with no predicted samples. Use `zero_division` parameter to control this behavior.\n",
            "  _warn_prf(average, modifier, f\"{metric.capitalize()} is\", len(result))\n",
            "/usr/local/lib/python3.11/dist-packages/sklearn/metrics/_classification.py:1565: UndefinedMetricWarning: Precision is ill-defined and being set to 0.0 in labels with no predicted samples. Use `zero_division` parameter to control this behavior.\n",
            "  _warn_prf(average, modifier, f\"{metric.capitalize()} is\", len(result))\n",
            "/usr/local/lib/python3.11/dist-packages/sklearn/metrics/_classification.py:1565: UndefinedMetricWarning: Precision is ill-defined and being set to 0.0 in labels with no predicted samples. Use `zero_division` parameter to control this behavior.\n",
            "  _warn_prf(average, modifier, f\"{metric.capitalize()} is\", len(result))\n"
          ]
        },
        {
          "name": "stdout",
          "output_type": "stream",
          "text": [
            "--- Gradient Boosting ---\n",
            "Accuracy: 0.9250\n",
            "Confusion Matrix:\n",
            "[[ 23   0  16]\n",
            " [  0  16  25]\n",
            " [  1   3 516]]\n",
            "Classification Report:\n",
            "              precision    recall  f1-score   support\n",
            "\n",
            "           0       0.96      0.59      0.73        39\n",
            "           1       0.84      0.39      0.53        41\n",
            "           2       0.93      0.99      0.96       520\n",
            "\n",
            "    accuracy                           0.93       600\n",
            "   macro avg       0.91      0.66      0.74       600\n",
            "weighted avg       0.92      0.93      0.91       600\n",
            "\n",
            "--------------------------------------------------\n",
            "--- K-Nearest Neighbors ---\n",
            "Accuracy: 0.8450\n",
            "Confusion Matrix:\n",
            "[[  0   0  39]\n",
            " [  0   0  41]\n",
            " [  9   4 507]]\n",
            "Classification Report:\n",
            "              precision    recall  f1-score   support\n",
            "\n",
            "           0       0.00      0.00      0.00        39\n",
            "           1       0.00      0.00      0.00        41\n",
            "           2       0.86      0.97      0.92       520\n",
            "\n",
            "    accuracy                           0.84       600\n",
            "   macro avg       0.29      0.33      0.31       600\n",
            "weighted avg       0.75      0.84      0.79       600\n",
            "\n",
            "--------------------------------------------------\n"
          ]
        }
      ],
      "source": [
        "trained_models = evaluate_models(X_train, X_test, y_train, y_test)"
      ]
    },
    {
      "cell_type": "markdown",
      "metadata": {
        "id": "A6XuTV29FdHy"
      },
      "source": [
        "The models we tested predict which leads are most likely to turn into sales. The **Gradient Boosting** model performed the best, accurately predicting sales most of the time, while **Random Forest** also did well. However, all models struggled with certain types of leads. In general, the models were great at predicting common leads but could improve in handling less common ones. We’ll continue to fine-tune these models to make them even more accurate in the future.\n",
        "\n"
      ]
    },
    {
      "cell_type": "code",
      "execution_count": 83,
      "metadata": {
        "colab": {
          "base_uri": "https://localhost:8080/"
        },
        "id": "oPKOpQrsFed1",
        "outputId": "a92f83e9-9ed9-4b60-fcd3-5404092e17cc"
      },
      "outputs": [
        {
          "data": {
            "text/plain": [
              "['Gradient_boosting.pkl']"
            ]
          },
          "execution_count": 83,
          "metadata": {},
          "output_type": "execute_result"
        }
      ],
      "source": [
        "import joblib\n",
        "joblib.dump(trained_models['Gradient Boosting'], 'Gradient_boosting.pkl')"
      ]
    },
    {
      "cell_type": "code",
      "execution_count": null,
      "metadata": {
        "id": "9iLXINVnICMM"
      },
      "outputs": [],
      "source": []
    }
  ],
  "metadata": {
    "colab": {
      "provenance": []
    },
    "kernelspec": {
      "display_name": "Python 3",
      "name": "python3"
    },
    "language_info": {
      "name": "python"
    }
  },
  "nbformat": 4,
  "nbformat_minor": 0
}
